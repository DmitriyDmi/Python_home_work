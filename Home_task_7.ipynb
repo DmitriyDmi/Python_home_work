{
  "nbformat": 4,
  "nbformat_minor": 0,
  "metadata": {
    "colab": {
      "provenance": [],
      "authorship_tag": "ABX9TyOAv+R0PkV6kyg2SUL9Gq9K"
    },
    "kernelspec": {
      "name": "python3",
      "display_name": "Python 3"
    },
    "language_info": {
      "name": "python"
    }
  },
  "cells": [
    {
      "cell_type": "markdown",
      "source": [
        "Задача 34:  Винни-Пух попросил Вас посмотреть, есть ли в его стихах ритм. Поскольку разобраться в его кричалках не настолько просто, насколько легко он их придумывает, Вам стоит написать программу. Винни-Пух считает, что ритм есть, если число слогов (т.е. число гласных букв) в каждой фразе стихотворения одинаковое. Фраза может состоять из одного слова, если во фразе несколько слов, то они разделяются дефисами. Фразы отделяются друг от друга пробелами. Стихотворение  Винни-Пух вбивает в программу с клавиатуры. В ответе напишите “Парам пам-пам”, если с ритмом все в порядке и “Пам парам”, если с ритмом все не в порядке\n",
        "\n",
        "*Пример:*\n",
        "\n",
        "**Ввод:** пара-ра-рам рам-пам-папам па-ра-па-да    \n",
        "    **Вывод:** Парам пам-пам  "
      ],
      "metadata": {
        "id": "NgLvSx_9b1Nk"
      }
    },
    {
      "cell_type": "code",
      "execution_count": 23,
      "metadata": {
        "colab": {
          "base_uri": "https://localhost:8080/"
        },
        "id": "C1lpilmzbxyh",
        "outputId": "fba1ba7c-bb59-401d-b77d-a882eb58dcaa"
      },
      "outputs": [
        {
          "output_type": "stream",
          "name": "stdout",
          "text": [
            "Пиши стих, Винни: пара-ра-рам рам-пам-папам па-ра-па-да\n",
            "Число слогов {4}, \n",
            " Парам пам-пам\n"
          ]
        }
      ],
      "source": [
        "stih = input('Пиши стих, Винни: ')\n",
        "glasnie = ['а', 'я', 'у', 'ю', 'о', 'е', 'ё', 'э', 'и', 'ы']\n",
        "fraza = stih.split()\n",
        "glasnie_v_fraze = list(map(lambda x: len(list(filter(lambda a: a.lower() in glasnie, x))), fraza))\n",
        "\n",
        "if len(set(glasnie_v_fraze)) == 1:\n",
        "  print(f'Число слогов {set(glasnie_v_fraze)}, \\n Парам пам-пам')\n",
        "else:\n",
        "  print(f'Число слогов в фразах {glasnie_v_fraze}, \\n Рифмы нет!')\n"
      ]
    },
    {
      "cell_type": "markdown",
      "source": [
        "Задача 36: Напишите функцию print_operation_table(operation, num_rows=6, num_columns=6), которая принимает в качестве аргумента функцию, вычисляющую элемент по номеру строки и столбца. Аргументы num_rows и num_columns указывают число строк и столбцов таблицы, которые должны быть распечатаны. Нумерация строк и столбцов идет с единицы (подумайте, почему не с нуля). Примечание: бинарной операцией называется любая операция, у которой ровно два аргумента, как, например, у операции умножения.\n",
        "\n",
        "*Пример:*\n",
        "\n",
        "**Ввод:** `print_operation_table(lambda x, y: x * y) ` \n",
        "**Вывод:**"
      ],
      "metadata": {
        "id": "3oMCYbphk8U_"
      }
    },
    {
      "cell_type": "code",
      "source": [
        "def print_operation_table(operation, num_rows=6, num_columns=6):\n",
        "  for j in range(1, num_rows + 1):\n",
        "    for i in range(1, num_columns + 1):\n",
        "      print(str(operation(j, i)).rjust(4), end='')\n",
        "    print()\n",
        "\n",
        "print_operation_table(lambda x, y: x * y, 10, 10)"
      ],
      "metadata": {
        "colab": {
          "base_uri": "https://localhost:8080/"
        },
        "id": "uQHETbh9lLId",
        "outputId": "20f1410b-80f1-4986-8ae8-ec6ebe0c339c"
      },
      "execution_count": 27,
      "outputs": [
        {
          "output_type": "stream",
          "name": "stdout",
          "text": [
            "   1   2   3   4   5   6   7   8   9  10\n",
            "   2   4   6   8  10  12  14  16  18  20\n",
            "   3   6   9  12  15  18  21  24  27  30\n",
            "   4   8  12  16  20  24  28  32  36  40\n",
            "   5  10  15  20  25  30  35  40  45  50\n",
            "   6  12  18  24  30  36  42  48  54  60\n",
            "   7  14  21  28  35  42  49  56  63  70\n",
            "   8  16  24  32  40  48  56  64  72  80\n",
            "   9  18  27  36  45  54  63  72  81  90\n",
            "  10  20  30  40  50  60  70  80  90 100\n"
          ]
        }
      ]
    }
  ]
}