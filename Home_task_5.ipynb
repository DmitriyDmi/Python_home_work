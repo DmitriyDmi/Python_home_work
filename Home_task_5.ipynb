{
  "nbformat": 4,
  "nbformat_minor": 0,
  "metadata": {
    "colab": {
      "provenance": [],
      "authorship_tag": "ABX9TyMoN8tioBV0xFib+M4wVJV0"
    },
    "kernelspec": {
      "name": "python3",
      "display_name": "Python 3"
    },
    "language_info": {
      "name": "python"
    }
  },
  "cells": [
    {
      "cell_type": "markdown",
      "source": [
        "Задача 26:  Напишите программу, которая на вход принимает два числа A и B, и возводит число А в целую степень B с помощью рекурсии.\n",
        "\n",
        "*Пример:*\n",
        "\n",
        "A = 3; B = 5 -> 243 (3⁵)\n",
        "\n",
        "    A = 2; B = 3 -> 8 "
      ],
      "metadata": {
        "id": "0e9mc-8YmiZx"
      }
    },
    {
      "cell_type": "code",
      "source": [
        "def func_st(a, b):\n",
        "  if b > 0:\n",
        "    return a * func_st(a, b - 1)\n",
        "  return 1\n",
        "\n",
        "a1 = int(input('Введите число: '))\n",
        "b1 = int(input('Введите степень: '))\n",
        "func_st(a1, b1)"
      ],
      "metadata": {
        "colab": {
          "base_uri": "https://localhost:8080/"
        },
        "id": "1vHnskvqnMSb",
        "outputId": "c8889285-a79f-402c-de8c-958ee3ae2929"
      },
      "execution_count": 58,
      "outputs": [
        {
          "name": "stdout",
          "output_type": "stream",
          "text": [
            "Введите число: 2\n",
            "Введите степень: 11\n"
          ]
        },
        {
          "output_type": "execute_result",
          "data": {
            "text/plain": [
              "2048"
            ]
          },
          "metadata": {},
          "execution_count": 58
        }
      ]
    },
    {
      "cell_type": "markdown",
      "source": [
        "Задача 28: Напишите рекурсивную функцию sum(a, b), возвращающую сумму двух целых неотрицательных чисел. Из всех арифметических операций допускаются только +1 и -1. Также нельзя использовать циклы.\n",
        "\n",
        "*Пример:*\n",
        "\n",
        "2 2\n",
        "\n",
        "    4 "
      ],
      "metadata": {
        "id": "n1yfjujhmpyY"
      }
    },
    {
      "cell_type": "code",
      "source": [
        "def summa(a, b):\n",
        "  if b > 0:\n",
        "    return summa(a + 1, b - 1)\n",
        "  return a\n",
        "\n",
        "a1 = int(input('Введите слагаемое 1: '))\n",
        "b1 = int(input('Введите слагаемое 2: '))\n",
        "summa(a1, b1)"
      ],
      "metadata": {
        "colab": {
          "base_uri": "https://localhost:8080/"
        },
        "id": "RpY_ummvm2Ru",
        "outputId": "eb51af7c-a6ad-4d44-8f18-a90c11ed2a4f"
      },
      "execution_count": 92,
      "outputs": [
        {
          "name": "stdout",
          "output_type": "stream",
          "text": [
            "Введите слагаемое 1: 0\n",
            "Введите слагаемое 2: 32\n"
          ]
        },
        {
          "output_type": "execute_result",
          "data": {
            "text/plain": [
              "32"
            ]
          },
          "metadata": {},
          "execution_count": 92
        }
      ]
    },
    {
      "cell_type": "markdown",
      "source": [
        "Задача из семирана по замене оценки 8))"
      ],
      "metadata": {
        "id": "Xvr_BNpDm78l"
      }
    },
    {
      "cell_type": "code",
      "execution_count": 54,
      "metadata": {
        "colab": {
          "base_uri": "https://localhost:8080/"
        },
        "id": "oBOphJYPHd1L",
        "outputId": "1e8a852b-701c-46a3-b847-35b07348864e"
      },
      "outputs": [
        {
          "output_type": "execute_result",
          "data": {
            "text/plain": [
              "[1, 2, 1, 4, 1, 3, 1, 2, 1, 4]"
            ]
          },
          "metadata": {},
          "execution_count": 54
        }
      ],
      "source": [
        "import pandas as pd\n",
        "lst = [1, 2, 1, 4, 5, 3 , 5, 2 , 1 ,4]\n",
        "df = pd.DataFrame(lst)\n",
        "df = df[0].replace(max(df[0]),min(df[0]))\n",
        "list(df)\n",
        "\n"
      ]
    }
  ]
}