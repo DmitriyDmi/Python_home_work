{
  "nbformat": 4,
  "nbformat_minor": 0,
  "metadata": {
    "colab": {
      "provenance": [],
      "authorship_tag": "ABX9TyPG7/wNGK8EsofDc4xwRYwG"
    },
    "kernelspec": {
      "name": "python3",
      "display_name": "Python 3"
    },
    "language_info": {
      "name": "python"
    }
  },
  "cells": [
    {
      "cell_type": "markdown",
      "source": [
        "Задача 30:  Заполните массив элементами арифметической прогрессии. Её первый элемент, разность и количество элементов нужно ввести с клавиатуры. Формула для получения n-го члена прогрессии: an = a1 + (n-1) * d.\n",
        "Каждое число вводится с новой строки."
      ],
      "metadata": {
        "id": "1JTINPDGo341"
      }
    },
    {
      "cell_type": "code",
      "execution_count": 1,
      "metadata": {
        "colab": {
          "base_uri": "https://localhost:8080/"
        },
        "id": "uv6OJABjotCU",
        "outputId": "6f20dc5e-1c5b-4c2a-93fd-31b253ff1866"
      },
      "outputs": [
        {
          "output_type": "stream",
          "name": "stdout",
          "text": [
            "Введите первый элемент: 7\n",
            "Введите разность элементов: 2\n",
            "Введите количество элементов: 5\n",
            "7\n",
            "9\n",
            "11\n",
            "13\n",
            "15\n"
          ]
        }
      ],
      "source": [
        "first_num = int(input('Введите первый элемент: '))\n",
        "step = int(input('Введите разность элементов: '))\n",
        "n = int(input('Введите количество элементов: '))\n",
        "\n",
        "for i in range(n):\n",
        "  print(first_num + step * i)"
      ]
    },
    {
      "cell_type": "markdown",
      "source": [
        "Задача 32: Определить индексы элементов массива (списка), значения которых принадлежат заданному диапазону (т.е. не меньше заданного минимума и не больше заданного максимума)"
      ],
      "metadata": {
        "id": "3vPhH_HGqM8A"
      }
    },
    {
      "cell_type": "code",
      "source": [
        "import random as rd\n",
        "r = int(input('Введите количество элементов массива: '))\n",
        "min_m = int(input('нижняя граница массива: '))\n",
        "max_m = int(input('верхняя граница массива: '))\n",
        "lst_rnd = [rd.randint(min_m,max_m + 1) for i in range(r)]\n",
        "\n",
        "print(lst_rnd)\n",
        "\n",
        "minimum = int(input('Минимум диапозона: '))\n",
        "maximum = int(input('Максимум диапозона: '))\n",
        "\n",
        "print([i for i in range(len(lst_rnd)) if lst_rnd[i] >= minimum and lst_rnd[i] <= maximum])\n"
      ],
      "metadata": {
        "colab": {
          "base_uri": "https://localhost:8080/"
        },
        "id": "Byk_0jwlqSOI",
        "outputId": "f0c7cd85-ec50-4bdb-fadc-9f6c1307c264"
      },
      "execution_count": 2,
      "outputs": [
        {
          "output_type": "stream",
          "name": "stdout",
          "text": [
            "Введите количество элементов массива: 7\n",
            "нижняя граница массива: 20\n",
            "верхняя граница массива: 40\n",
            "[39, 39, 36, 23, 36, 27, 37]\n",
            "Минимум диапозона: 25\n",
            "Максимум диапозона: 36\n",
            "[2, 4, 5]\n"
          ]
        }
      ]
    }
  ]
}