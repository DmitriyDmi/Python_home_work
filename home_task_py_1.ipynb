{
  "nbformat": 4,
  "nbformat_minor": 0,
  "metadata": {
    "colab": {
      "provenance": [],
      "authorship_tag": "ABX9TyO+V0YbktpeGl5gSrlo6ksV"
    },
    "kernelspec": {
      "name": "python3",
      "display_name": "Python 3"
    },
    "language_info": {
      "name": "python"
    }
  },
  "cells": [
    {
      "cell_type": "code",
      "execution_count": null,
      "metadata": {
        "id": "urBXijF49fok"
      },
      "outputs": [],
      "source": []
    },
    {
      "cell_type": "markdown",
      "source": [
        "Задача 2: Найдите сумму цифр трехзначного числа.\n",
        "\n",
        "*Пример:*\n",
        "\n",
        "123 -> 6 (1 + 2 + 3)\n",
        "\n",
        "100 -> 1 (1 + 0 + 0) |"
      ],
      "metadata": {
        "id": "YH7yM1qa9sKF"
      }
    },
    {
      "cell_type": "code",
      "source": [
        "num = int(input('Введите трехзначное число:'))\n",
        "c = num % 10\n",
        "b = (num % 100 - num % 10) / 10\n",
        "a = (num % 1000 - num % 100) / 100\n",
        "result = a + b + c\n",
        "print(f'{int(result)}({int(a)} + {int(b)} + {int(c)})')"
      ],
      "metadata": {
        "colab": {
          "base_uri": "https://localhost:8080/"
        },
        "id": "EdamvlZ--J-K",
        "outputId": "9f50a338-453e-4113-ccc9-3e18a813a929"
      },
      "execution_count": null,
      "outputs": [
        {
          "output_type": "stream",
          "name": "stdout",
          "text": [
            "Введите трехзначное число:100\n",
            "1(1 + 0 + 0)\n"
          ]
        }
      ]
    },
    {
      "cell_type": "markdown",
      "source": [
        "Задача 4: Петя, Катя и Сережа делают из бумаги журавликов. Вместе они сделали S журавликов. Сколько журавликов сделал каждый ребенок, если известно, что Петя и Сережа сделали одинаковое количество журавликов, а Катя сделала в два раза больше журавликов, чем Петя и Сережа вместе?\n",
        "\n",
        "*Пример:*\n",
        "\n",
        "6 -> 1  4  1\n",
        "\n",
        "24 -> 4  16  4\n",
        "\n",
        "60 -> 10  40  10"
      ],
      "metadata": {
        "id": "BuzOfjl5-DLT"
      }
    },
    {
      "cell_type": "code",
      "source": [
        "num = int(input('Сколько всего журавликов сделано:'))\n",
        "# Петя + Катя + Сережа = num журавликов\n",
        "# Петя = Сережа\n",
        "# Катя = (Петя + Сережа) * 2\n",
        "# Сережа = num / 6\n",
        "serj = int(num / 6)\n",
        "pety = serj\n",
        "katy = (serj + pety) * 2\n",
        "print(pety, katy, serj)"
      ],
      "metadata": {
        "colab": {
          "base_uri": "https://localhost:8080/"
        },
        "id": "TJd0Dffp-K5V",
        "outputId": "75138926-b8cc-4186-da86-5b384860f17b"
      },
      "execution_count": null,
      "outputs": [
        {
          "output_type": "stream",
          "name": "stdout",
          "text": [
            "Сколько всего журавликов сделано:42\n",
            "7 28 7\n"
          ]
        }
      ]
    },
    {
      "cell_type": "markdown",
      "source": [
        "Задача 6: Вы пользуетесь общественным транспортом? Вероятно, вы расплачивались за проезд и получали билет с номером. Счастливым билетом называют такой билет с шестизначным номером, где сумма первых трех цифр равна сумме последних трех. Т.е. билет с номером 385916 – счастливый, т.к. 3+8+5=9+1+6. Вам требуется написать программу, которая проверяет счастливость билета.\n",
        "\n",
        "*Пример:*\n",
        "\n",
        "385916 -> yes\n",
        "\n",
        "123456 -> no"
      ],
      "metadata": {
        "id": "ay-gFYi0-Dd0"
      }
    },
    {
      "cell_type": "code",
      "source": [
        "num = int(input('Введите номер билета:'))\n",
        "\n",
        "last_three = num % 1000\n",
        "first_three = (num - num % 1000) / 1000\n",
        "\n",
        "def sum(number):\n",
        "  c = number % 10\n",
        "  b = (number % 100 - number % 10) / 10\n",
        "  a = (number % 1000 - number % 100) / 100\n",
        "  result = a + b + c\n",
        "  return result\n",
        "\n",
        "if sum(last_three) == sum(first_three):\n",
        "  print('YES')\n",
        "else:\n",
        "  print('NO')\n"
      ],
      "metadata": {
        "colab": {
          "base_uri": "https://localhost:8080/"
        },
        "id": "jR_CuSWt-PvM",
        "outputId": "5ec32e71-9b7b-4c1b-a63c-faa092f1bfd2"
      },
      "execution_count": null,
      "outputs": [
        {
          "output_type": "stream",
          "name": "stdout",
          "text": [
            "Введите номер билета:385916\n",
            "YES\n"
          ]
        }
      ]
    },
    {
      "cell_type": "markdown",
      "source": [
        "Задача 8: Требуется определить, можно ли от шоколадки размером n × m долек отломить k долек, если разрешается сделать один разлом по прямой между дольками (то есть разломить шоколадку на два прямоугольника).\n",
        "\n",
        "*Пример:*\n",
        "\n",
        "3 2 4 -> yes\n",
        "\n",
        "3 2 1 -> no"
      ],
      "metadata": {
        "id": "tFDEBZp5-EVj"
      }
    },
    {
      "cell_type": "code",
      "source": [
        "# Размер n на m\n",
        "# Возможное количество за один разлом отделить или n*M (M любое натуральное от 1 до m) или m*N (N любое натуральное от 1 до n)\n",
        "# Остается при разломе k долек если только k делиться на n или m без остатка"
      ],
      "metadata": {
        "id": "GDfS7aCN96FH"
      },
      "execution_count": null,
      "outputs": []
    },
    {
      "cell_type": "code",
      "source": [
        "n = int(input('Введите первый размер шоколадки:'))\n",
        "m = int(input('Введите второй размер шоколадки:'))\n",
        "k = int(input('Введите сколько долек хотим отломить за 1 разлом:'))\n",
        "\n",
        "if (k % n == 0 or k % m ==0) and (k != n * m):\n",
        "  print('yes')\n",
        "else:\n",
        "  print('no')"
      ],
      "metadata": {
        "colab": {
          "base_uri": "https://localhost:8080/"
        },
        "id": "d8wWWK2U9yyM",
        "outputId": "d0531a1c-7a80-4354-eff7-d4a394aa8360"
      },
      "execution_count": null,
      "outputs": [
        {
          "output_type": "stream",
          "name": "stdout",
          "text": [
            "Введите первый размер шоколадки:3\n",
            "Введите второй размер шоколадки:7\n",
            "Введите сколько долек хотим отломить за 1 разлом:5\n",
            "no\n"
          ]
        }
      ]
    }
  ]
}