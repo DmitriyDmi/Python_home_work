{
  "nbformat": 4,
  "nbformat_minor": 0,
  "metadata": {
    "colab": {
      "provenance": [],
      "authorship_tag": "ABX9TyO277/nepUwn6iXyn54f17e"
    },
    "kernelspec": {
      "name": "python3",
      "display_name": "Python 3"
    },
    "language_info": {
      "name": "python"
    }
  },
  "cells": [
    {
      "cell_type": "markdown",
      "source": [
        "**Задача 16**: Требуется вычислить, сколько раз встречается некоторое число X в массиве A[1..N]. Пользователь в первой строке вводит натуральное число N – количество элементов в массиве. В последующих  строках записаны N целых чисел Ai. Последняя строка содержит число X\n",
        "\n",
        "*Пример:*\n",
        "\n",
        "5\n",
        "    1 2 3 4 5\n",
        "    3\n",
        "    -> 1"
      ],
      "metadata": {
        "id": "WGmnyybVmi3q"
      }
    },
    {
      "cell_type": "code",
      "source": [
        "\n",
        "n = int(input(\"Введите длину списка: \"))\n",
        "list_1 = list(map(int, input(\"Значения через пробел: \").split()))\n",
        "m = int(input(\"Введите искомое число: \"))\n",
        "count = 0\n",
        "if len(list_1) < n:\n",
        "  for i in range(len(list_1), n):\n",
        "    list_1.append(0)\n",
        "elif len(list_1) > n:\n",
        "  list_1 = list_1[:n]\n",
        "\n",
        "for i in range(n):\n",
        "  if m == list_1[i]:\n",
        "    count += 1\n",
        "print(f'{list_1} -> {count}')\n"
      ],
      "metadata": {
        "colab": {
          "base_uri": "https://localhost:8080/"
        },
        "id": "PDqIzxJumnWY",
        "outputId": "5f4ac0ae-b414-46c4-a6d7-0c3482c5c884"
      },
      "execution_count": null,
      "outputs": [
        {
          "output_type": "stream",
          "name": "stdout",
          "text": [
            "Введите длину списка: 5\n",
            "Значения через пробел: 1 2 3 4 5 6 7\n",
            "Введите искомое число: 4\n",
            "[1, 2, 3, 4, 5] -> 1\n"
          ]
        }
      ]
    },
    {
      "cell_type": "markdown",
      "source": [
        "**Задача 18**: Требуется найти в массиве A[1..N] самый близкий по величине элемент к заданному числу X. Пользователь в первой строке вводит натуральное число N – количество элементов в массиве. В последующих  строках записаны N целых чисел Ai. Последняя строка содержит число X\n",
        "\n",
        "*Пример:*\n",
        "\n",
        "5\n",
        "    1 2 3 4 5\n",
        "\n",
        "    6\n",
        "    \n",
        "    -> 5"
      ],
      "metadata": {
        "id": "SOvTyVkbpGUz"
      }
    },
    {
      "cell_type": "code",
      "source": [
        "n = int(input(\"Введите длину списка: \"))\n",
        "list_2 = list(map(int, input(\"Значения через пробел: \").split()))\n",
        "m = int(input(\"Введите искомое число: \"))\n",
        "count = 0\n",
        "if len(list_2) < n:\n",
        "  for i in range(len(list_2), n):\n",
        "    list_2.append(0)\n",
        "elif len(list_2) > n:\n",
        "  list_2 = list_2[:n]\n",
        "\n",
        "minimum = list_2[0]\n",
        "minimum_delta = abs(m - list_2[0])\n",
        "for i in range(1, n):\n",
        "  if abs(m - list_2[i]) < minimum_delta:\n",
        "    minimum = list_2[i]\n",
        "    minimum_delta = abs(m - list_2[i])\n",
        "print(f'Самое близкое к {m} число: {minimum}')"
      ],
      "metadata": {
        "colab": {
          "base_uri": "https://localhost:8080/"
        },
        "id": "R3ztXVdPpMyn",
        "outputId": "d61f9fba-426e-4407-9b3a-44e795f12c43"
      },
      "execution_count": null,
      "outputs": [
        {
          "output_type": "stream",
          "name": "stdout",
          "text": [
            "Введите длину списка: 5\n",
            "Значения через пробел: 1 2 3 4 5 \n",
            "Введите искомое число: 6\n",
            "Самое близкое к 6 число: 5\n"
          ]
        }
      ]
    },
    {
      "cell_type": "markdown",
      "source": [
        "**Задача 20:** В настольной игре Скрабл (Scrabble) каждая буква имеет определенную ценность. В случае с английским алфавитом очки распределяются так:\n",
        "\n",
        "A, E, I, O, U, L, N, S, T, R – 1 очко; \n",
        "\n",
        "D, G – 2 очка; \n",
        "\n",
        "B, C, M, P – 3 очка; \n",
        "\n",
        "F, H, V, W, Y – 4 очка; \n",
        "\n",
        "K – 5 очков; \n",
        "\n",
        "J, X – 8 очков; \n",
        "\n",
        "Q, Z – 10 очков. \n",
        "\n",
        "А русские буквы оцениваются так: \n",
        "\n",
        "А, В, Е, И, Н, О, Р, С, Т – 1 очко; \n",
        "\n",
        "Д, К, Л, М, П, У – 2 очка; \n",
        "\n",
        "Б, Г, Ё, Ь, Я – 3 очка; \n",
        "\n",
        "Й, Ы – 4 очка; \n",
        "\n",
        "Ж, З, Х, Ц, Ч – 5 очков; \n",
        "\n",
        "Ш, Э, Ю – 8 очков; \n",
        "\n",
        "Ф, Щ, Ъ – 10 очков.\n",
        "\n",
        " Напишите программу, которая вычисляет стоимость введенного пользователем слова. Будем считать, что на вход подается только одно слово, которое содержит либо только английские, либо только русские буквы.\n",
        "\n"
      ],
      "metadata": {
        "id": "i0qx-SirvipS"
      }
    },
    {
      "cell_type": "code",
      "source": [
        "dict_1 = { '1': ['A', 'E', 'I', 'O', 'U', 'L', 'N', 'S', 'T', 'R']\\\n",
        "          ,'2': ['D', 'G']\\\n",
        "          ,'3': ['B', 'C', 'M', 'P']\\\n",
        "          ,'4': ['F', 'H', 'V', 'W', 'Y']\\\n",
        "          ,'5': ['K']\\\n",
        "          ,'8': ['J', 'X']\\\n",
        "          ,'10': ['Q', 'Z']}\n",
        "\n",
        "dict_2 = { '1': ['А', 'В', 'Е', 'И', 'Н', 'О', 'Р', 'С', 'Т']\\\n",
        "          ,'2': ['Д', 'К', 'Л', 'М', 'П', 'У']\\\n",
        "          ,'3': ['Б', 'Г', 'Ё', 'Ь', 'Я']\\\n",
        "          ,'4': ['Й', 'Ы']\\\n",
        "          ,'5': ['Ж', 'З', 'Х', 'Ц', 'Ч']\\\n",
        "          ,'8': ['Ш', 'Э', 'Ю']\\\n",
        "          ,'10': ['Ф', 'Щ', 'Ъ' ]}\n",
        "\n",
        "word = input(\"Введите слово: \")\n",
        "\n",
        "def letter_keys(dct, word):\n",
        "  sum_scorr = 0\n",
        "  for i in range(len(word)):\n",
        "    letter_i = word[i]\n",
        "    count_stop = True    ### Проверка ru/en каждой буквы\n",
        "    for k in dct:\n",
        "      if letter_i.upper() in dct[k]:\n",
        "        sum_scorr = sum_scorr + int(k)\n",
        "        count_stop = False     ### Проверка ru/en каждой буквы\n",
        "    if count_stop:     ### Проверка ru/en каждой буквы\n",
        "      return (\"Некорректный ввод\")\n",
        "  return f'Сумма очков букв слова: {sum_scorr}'\n",
        "\n",
        "\n",
        "letter = word[0]      ### Проверка ru/en первой буквы\n",
        "for k in dict_1:      \n",
        "  if letter.upper() in dict_1[k]:\n",
        "    print(letter_keys(dict_1, word))\n",
        "  else:\n",
        "    if letter.upper() in dict_2[k]:\n",
        "        print(letter_keys(dict_2, word))\n",
        "\n",
        "\n",
        "\n"
      ],
      "metadata": {
        "id": "M3CJdpaswBcV",
        "colab": {
          "base_uri": "https://localhost:8080/"
        },
        "outputId": "a2f68073-32ed-4299-b02e-2b143c3985d9"
      },
      "execution_count": 36,
      "outputs": [
        {
          "output_type": "stream",
          "name": "stdout",
          "text": [
            "Введите слово: sdf\n",
            "Сумма очков слова: 7\n"
          ]
        }
      ]
    }
  ]
}