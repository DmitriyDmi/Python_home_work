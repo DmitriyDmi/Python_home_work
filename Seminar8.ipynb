{
  "nbformat": 4,
  "nbformat_minor": 0,
  "metadata": {
    "colab": {
      "provenance": [],
      "authorship_tag": "ABX9TyNj/rlq7VaxygyV0KQmF9Gz"
    },
    "kernelspec": {
      "name": "python3",
      "display_name": "Python 3"
    },
    "language_info": {
      "name": "python"
    }
  },
  "cells": [
    {
      "cell_type": "markdown",
      "source": [
        "Задача №49. Решение в группах\n",
        "Создать телефонный справочник с\n",
        "возможностью импорта и экспорта данных в\n",
        "формате .txt. Фамилия, имя, отчество, номер\n",
        "телефона - данные, которые должны находиться\n",
        "в файле.\n",
        "1. Программа должна выводить данные\n",
        "2. Программа должна сохранять данные в\n",
        "текстовом файле\n",
        "3. Пользователь может ввести одну из\n",
        "характеристик для поиска определенной\n",
        "записи(Например имя или фамилию\n",
        "человека)\n",
        "4. Использование функций. Ваша программа\n",
        "не должна быть линейной"
      ],
      "metadata": {
        "id": "Elcg3K7Fqtz5"
      }
    },
    {
      "cell_type": "code",
      "execution_count": 5,
      "metadata": {
        "colab": {
          "base_uri": "https://localhost:8080/"
        },
        "id": "PC6FgprWqlwN",
        "outputId": "e3c7c665-fd57-4939-8f06-91c233638dd4"
      },
      "outputs": [
        {
          "name": "stdout",
          "output_type": "stream",
          "text": [
            "Открыть файл справочника?(да/нет):да\n",
            "Команды справочника: \n",
            " Показать весь справочник: 1 \n",
            " Поиск по справочнику: 2 \n",
            " Добавить новую запись: 3 \n",
            " Удалить строки: 4 \n",
            " Сохранить в формате csv: 5 \n",
            " Выход: 0\n",
            "Введите номер команды:1\n",
            " Иванов,Иван,111\n",
            "\n",
            " Петров,Петр,222\n",
            "\n",
            " Васильев,Василий,333\n",
            "Введите номер команды:5\n",
            "Введите номер команды:0\n"
          ]
        }
      ],
      "source": [
        "info = 'Команды справочника: \\n Показать весь справочник: 1 \\n Поиск по справочнику: 2 \\n \\\n",
        "Добавить новую запись: 3 \\n Удалить строки: 4 \\n Сохранить в формате csv: 5 \\n Выход: 0'\n",
        "\n",
        "def del_empty():\n",
        "  df = open('spravochnik.txt')\n",
        "  lines = df.readlines()\n",
        "  non_empty_lines = (line for line in lines if not line.isspace())\n",
        "  df_2 = open('spravochnik.txt', 'w')\n",
        "  df_2.writelines(non_empty_lines)\n",
        "  df.close()\n",
        "  df_2.close()\n",
        "\n",
        "\n",
        "def show_all():\n",
        "  df = open('spravochnik.txt','r')\n",
        "  for line in df.readlines():\n",
        "    print (line)\n",
        "  df.close()\n",
        "  comand()\n",
        "  \n",
        "def find_line():\n",
        "  df = open('spravochnik.txt')\n",
        "  str = input('Введите что ищете:')\n",
        "  count = 0\n",
        "  lines = df.readlines()\n",
        "  for line in lines:\n",
        "    if str in line:\n",
        "      print(line, end=\"\")\n",
        "      count += 1\n",
        "  if count == 0:\n",
        "    print('Ничего не найдено')\n",
        "  df.close()\n",
        "  comand()\n",
        "\n",
        "def new_row():\n",
        "  df = open('spravochnik.txt','a')\n",
        "  print('Введите новую строку в файл:')\n",
        "  str = input()\n",
        "  str.split()\n",
        "  str_new = str.split()[0]\n",
        "  for i in range(1, len(str.split())):\n",
        "    str_new = str_new + ',' + str.split()[i]\n",
        "  df.write(f'\\n {str_new}')\n",
        "  df.close()\n",
        "  del_empty()\n",
        "  comand()\n",
        "\n",
        "def del_str():\n",
        "  df = open('spravochnik.txt')\n",
        "  str = input('Введите что удаляем: ')\n",
        "  count = 0\n",
        "  lines = df.readlines()\n",
        "  str_for_del = ''\n",
        "  for line in lines:\n",
        "    if str in line:\n",
        "      print('удалиться:')\n",
        "      print(line, end=\"\")\n",
        "      str_for_del = line\n",
        "      line = ''\n",
        "      count += 1\n",
        "  if count == 0:\n",
        "    print('Ничего не найдено')\n",
        "    df.close()\n",
        "    comand()\n",
        "  else:\n",
        "    acces = input('Точно удаляем?(да/нет):')\n",
        "    if acces.lower() == 'да':\n",
        "      df.close()\n",
        "      df = open('spravochnik.txt', 'r').read()\n",
        "      df = df.replace(str_for_del,'')\n",
        "      df_2 = open('spravochnik.txt', 'w')\n",
        "      df_2.write(df)\n",
        "      df_2.close()\n",
        "      comand()\n",
        "    else:\n",
        "      df.close()\n",
        "      comand()\n",
        "\n",
        "def save_csv():\n",
        "  data = open('spravochnik.txt')\n",
        "  df_list = data.read().strip().split('\\n')\n",
        "  import csv\n",
        "  with open('spravochnik.csv', 'w', newline='') as f:\n",
        "    txt = csv.writer(f)\n",
        "    for i in df_list:\n",
        "      txt.writerow(i.split(','))\n",
        "  comand()\n",
        "\n",
        "def comand():\n",
        "    comanda = input('Введите номер команды:')\n",
        "    if comanda == '1':\n",
        "      show_all()\n",
        "    elif comanda == '2':\n",
        "      find_line()\n",
        "    elif comanda == '3':\n",
        "      new_row()\n",
        "    elif comanda == '4':\n",
        "      del_str()\n",
        "    elif comanda == '5':\n",
        "      save_csv()\n",
        "    elif comanda == '0':\n",
        "      exit()\n",
        "    else:\n",
        "      'Некорректный ввод'\n",
        "      exit()\n",
        "\n",
        "\n",
        "\n",
        "\n",
        "start = input('Открыть файл справочника?(да/нет):')\n",
        "if start.lower() == 'да':\n",
        "  try:\n",
        "    data = open('spravochnik.txt','r+')\n",
        "  except:\n",
        "    data = open('spravochnik.txt','a')\n",
        "  data.close()\n",
        "  print(info)\n",
        "\n",
        "  comand()\n",
        "\n",
        "\n",
        "elif start.lower() == 'нет':\n",
        "  print('Выходим.')\n",
        "  exit()\n",
        "else:\n",
        "  print('Некорректный ввод, повторите')\n",
        "  exit()\n",
        "\n",
        "\n",
        "\n",
        "\n",
        "\n",
        "\n"
      ]
    },
    {
      "cell_type": "code",
      "source": [
        "\n"
      ],
      "metadata": {
        "id": "pXeJG7jR5zHj"
      },
      "execution_count": 2,
      "outputs": []
    },
    {
      "cell_type": "code",
      "source": [],
      "metadata": {
        "colab": {
          "base_uri": "https://localhost:8080/"
        },
        "id": "hfc9g-76lWs2",
        "outputId": "9e529c6b-1f8e-4e46-9cda-80ca7b4f4f44"
      },
      "execution_count": 4,
      "outputs": [
        {
          "output_type": "stream",
          "name": "stdout",
          "text": [
            "['Иванов', 'Иван', '111']\n",
            "[' Петров', 'Петр', '222']\n",
            "[' Васильев', 'Василий', '333']\n"
          ]
        }
      ]
    }
  ]
}