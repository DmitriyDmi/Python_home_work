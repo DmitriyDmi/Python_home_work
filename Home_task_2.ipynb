{
  "nbformat": 4,
  "nbformat_minor": 0,
  "metadata": {
    "colab": {
      "provenance": [],
      "mount_file_id": "1H6r609PHlHpTcMZSgs6x4Ykyg94iSvMr",
      "authorship_tag": "ABX9TyOPinQU5sYSfKlZXQDJUIDx"
    },
    "kernelspec": {
      "name": "python3",
      "display_name": "Python 3"
    },
    "language_info": {
      "name": "python"
    }
  },
  "cells": [
    {
      "cell_type": "markdown",
      "source": [
        "**Задача 10**: На столе лежат n монеток. Некоторые из них лежат вверх решкой, а некоторые – гербом. Определите минимальное число монеток, которые нужно перевернуть, чтобы все монетки были повернуты вверх одной и той же стороной. Выведите минимальное количество монет, которые нужно перевернуть"
      ],
      "metadata": {
        "id": "ZLjASm61QUoH"
      }
    },
    {
      "cell_type": "code",
      "source": [
        "import random\n",
        "list = []\n",
        "count_zero = 0\n",
        "count_one = 0\n",
        "n = int(input(\"Введите кол-во монеток: \"))\n",
        "for i in range(n):\n",
        "  list.append(random.randint(0, 1))\n",
        "  if list[i] == 0:\n",
        "    count_zero += 1\n",
        "  else:\n",
        "    count_one += 1\n",
        "print(list)\n",
        "if count_one > count_zero:\n",
        "  print(f'Минимум надо перевернуть {count_zero} монеток')\n",
        "else:\n",
        "  print(f'Минимум надо перевернуть {count_one} монеток')"
      ],
      "metadata": {
        "colab": {
          "base_uri": "https://localhost:8080/"
        },
        "id": "PpKBH52_QSgR",
        "outputId": "f830471d-3be1-4a60-9293-d35c87bc7abf"
      },
      "execution_count": 5,
      "outputs": [
        {
          "output_type": "stream",
          "name": "stdout",
          "text": [
            "Введите кол-во монеток: 15\n",
            "[0, 0, 0, 0, 1, 1, 0, 1, 0, 0, 0, 0, 1, 0, 1]\n",
            "Минимум надо перевернуть 5 монеток\n"
          ]
        }
      ]
    },
    {
      "cell_type": "markdown",
      "source": [
        "**Задача 12**: Петя и Катя – брат и сестра. Петя – студент, а Катя – школьница. Петя помогает Кате по математике. Он задумывает два натуральных числа X и Y (X,Y≤1000), а Катя должна их отгадать. Для этого Петя делает две подсказки. Он называет сумму этих чисел S и их произведение P. Помогите Кате отгадать задуманные Петей числа."
      ],
      "metadata": {
        "id": "XgayuQSQS5Ih"
      }
    },
    {
      "cell_type": "code",
      "source": [
        "p = int(input('Введите произведение чисел: '))\n",
        "s = int(input('Введите сумму загаданных чисел: '))\n",
        "# x+y = s\n",
        "# x*y = p  ==> x*s - x*x - p = 0\n",
        "# x*x - x*s + p = 0\n",
        "# Теорема виета: \n",
        "# D = s*s - 4*p\n",
        "# x1 = (s/2+sqrt(D))/2\n",
        "# x2 = (s/2-sqrt(D))/2\n",
        "# x and y <= 1000 and >= 0 \n",
        "d = s*s - 4*p\n",
        "if d < 0:\n",
        "  print(\"Нет ответа\")\n",
        "else:\n",
        "  x = (s + d ** 0.5) / 2\n",
        "  y = (s - d ** 0.5) / 2\n",
        "  if x % 1 == 0 and y % 1 == 0:\n",
        "    print(f'Первое число {int(x)}, второе число {int(y)}')\n",
        "  else:\n",
        "    print(\"Нет ответа\")\n",
        "\n"
      ],
      "metadata": {
        "colab": {
          "base_uri": "https://localhost:8080/"
        },
        "id": "lGzkFHHyTM8g",
        "outputId": "dfc647ec-04a0-4b4e-abbf-e21d1e7c73ca"
      },
      "execution_count": 23,
      "outputs": [
        {
          "output_type": "stream",
          "name": "stdout",
          "text": [
            "Введите произведение чисел: 30000\n",
            "Введите сумму загаданных чисел: 350\n",
            "Первое число 200.0, второе число 150.0\n"
          ]
        }
      ]
    },
    {
      "cell_type": "markdown",
      "source": [
        "**Задача 14**: Требуется вывести все целые степени двойки (т.е. числа вида 2k), не превосходящие числа N."
      ],
      "metadata": {
        "id": "ewUN4PXocliZ"
      }
    },
    {
      "cell_type": "code",
      "source": [
        "n = int(input('Введите число: '))\n",
        "aggr = 1\n",
        "while aggr < n:\n",
        "  print(aggr, end=\" \")\n",
        "  aggr = 2 * aggr"
      ],
      "metadata": {
        "colab": {
          "base_uri": "https://localhost:8080/"
        },
        "id": "AoSKAJ4tcvv3",
        "outputId": "2d78c1ec-1773-460a-a913-5df8c4f14266"
      },
      "execution_count": 25,
      "outputs": [
        {
          "output_type": "stream",
          "name": "stdout",
          "text": [
            "Введите число: 50\n",
            "1 2 4 8 16 32 "
          ]
        }
      ]
    }
  ]
}